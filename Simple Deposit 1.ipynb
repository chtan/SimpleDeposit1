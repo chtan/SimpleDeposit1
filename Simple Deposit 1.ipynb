{
 "cells": [
  {
   "cell_type": "code",
   "execution_count": 6,
   "id": "7968ac5d",
   "metadata": {
    "hideCode": false,
    "hideOutput": true,
    "hidePrompt": true
   },
   "outputs": [
    {
     "data": {
      "text/html": [
       "\n",
       "<style>\n",
       ".output_subarea {\n",
       "    display: table-cell;\n",
       "    text-align: center;\n",
       "    vertical-align: middle;\n",
       "}\n",
       "</style>\n"
      ],
      "text/plain": [
       "<IPython.core.display.HTML object>"
      ]
     },
     "execution_count": 6,
     "metadata": {},
     "output_type": "execute_result"
    }
   ],
   "source": [
    "import jupyter_manim\n",
    "\n",
    "from IPython.core.display import HTML\n",
    "HTML(\"\"\"\n",
    "<style>\n",
    ".output_subarea {\n",
    "    display: table-cell;\n",
    "    text-align: center;\n",
    "    vertical-align: middle;\n",
    "}\n",
    "</style>\n",
    "\"\"\")"
   ]
  },
  {
   "cell_type": "markdown",
   "id": "6d6f355d",
   "metadata": {},
   "source": [
    "# Question"
   ]
  },
  {
   "cell_type": "markdown",
   "id": "015ef5fb",
   "metadata": {},
   "source": [
    "In a market with an interest rate of 0.05, at time 0, an amount denoted as \"p\" is transferred from the pocket to the personal account. By time 1, the value of the personal account reaches 200. The question is: What is the value of \"p\"?"
   ]
  },
  {
   "cell_type": "markdown",
   "id": "b6bfb0bc",
   "metadata": {},
   "source": [
    "# Solution"
   ]
  },
  {
   "cell_type": "markdown",
   "id": "1c4bf653",
   "metadata": {},
   "source": [
    "By interest compounging (time value of money),"
   ]
  },
  {
   "cell_type": "markdown",
   "id": "9e8819f0",
   "metadata": {},
   "source": [
    "the value in the personal account at time 1 is $$1.05p$$"
   ]
  },
  {
   "cell_type": "code",
   "execution_count": 7,
   "id": "b169db03",
   "metadata": {
    "hideCode": false,
    "hidePrompt": true
   },
   "outputs": [
    {
     "data": {
      "text/html": [
       "<?xml version=\"1.0\" encoding=\"UTF-8\"?>\n",
       "<svg xmlns=\"http://www.w3.org/2000/svg\" xmlns:xlink=\"http://www.w3.org/1999/xlink\"\n",
       "     width=\"300.0\" height=\"150.0\" viewBox=\"-100.0 -50.0 200 100\">\n",
       "<defs>\n",
       "\n",
       "<g>\n",
       "<symbol overflow=\"visible\" id=\"embed-4876340156783905150-glyph0-0\">\n",
       "<path style=\"stroke:none;\" d=\"\"/>\n",
       "</symbol>\n",
       "<symbol overflow=\"visible\" id=\"embed-4876340156783905150-glyph0-1\">\n",
       "<path style=\"stroke:none;\" d=\"M 0.453125 1.21875 C 0.375 1.5625 0.34375 1.625 -0.09375 1.625 C -0.203125 1.625 -0.3125 1.625 -0.3125 1.8125 C -0.3125 1.890625 -0.265625 1.9375 -0.1875 1.9375 C 0.078125 1.9375 0.375 1.90625 0.640625 1.90625 C 0.984375 1.90625 1.3125 1.9375 1.640625 1.9375 C 1.6875 1.9375 1.8125 1.9375 1.8125 1.734375 C 1.8125 1.625 1.71875 1.625 1.578125 1.625 C 1.078125 1.625 1.078125 1.5625 1.078125 1.46875 C 1.078125 1.34375 1.5 -0.28125 1.5625 -0.53125 C 1.6875 -0.234375 1.96875 0.109375 2.484375 0.109375 C 3.640625 0.109375 4.890625 -1.34375 4.890625 -2.8125 C 4.890625 -3.75 4.3125 -4.40625 3.5625 -4.40625 C 3.0625 -4.40625 2.578125 -4.046875 2.25 -3.65625 C 2.15625 -4.203125 1.71875 -4.40625 1.359375 -4.40625 C 0.890625 -4.40625 0.703125 -4.015625 0.625 -3.84375 C 0.4375 -3.5 0.3125 -2.90625 0.3125 -2.875 C 0.3125 -2.765625 0.40625 -2.765625 0.421875 -2.765625 C 0.53125 -2.765625 0.53125 -2.78125 0.59375 -3 C 0.765625 -3.703125 0.96875 -4.1875 1.328125 -4.1875 C 1.5 -4.1875 1.640625 -4.109375 1.640625 -3.734375 C 1.640625 -3.5 1.609375 -3.390625 1.5625 -3.21875 Z M 2.203125 -3.109375 C 2.265625 -3.375 2.546875 -3.65625 2.71875 -3.8125 C 3.078125 -4.109375 3.359375 -4.1875 3.53125 -4.1875 C 3.921875 -4.1875 4.171875 -3.84375 4.171875 -3.25 C 4.171875 -2.65625 3.84375 -1.515625 3.65625 -1.140625 C 3.3125 -0.4375 2.84375 -0.109375 2.46875 -0.109375 C 1.8125 -0.109375 1.6875 -0.9375 1.6875 -1 C 1.6875 -1.015625 1.6875 -1.03125 1.71875 -1.15625 Z M 2.203125 -3.109375 \"/>\n",
       "</symbol>\n",
       "</g>\n",
       "<clipPath id=\"embed-4876340156783905150-clip1\">\n",
       "  <path d=\"M 0 0 L 5 0 L 5 6.226562 L 0 6.226562 Z M 0 0 \"/>\n",
       "</clipPath>\n",
       "\n",
       "\n",
       "<g>\n",
       "<symbol overflow=\"visible\" id=\"embed--1658731348303750172-glyph0-0\">\n",
       "<path style=\"stroke:none;\" d=\"\"/>\n",
       "</symbol>\n",
       "<symbol overflow=\"visible\" id=\"embed--1658731348303750172-glyph0-1\">\n",
       "<path style=\"stroke:none;\" d=\"M 2.9375 -6.375 C 2.9375 -6.625 2.9375 -6.640625 2.703125 -6.640625 C 2.078125 -6 1.203125 -6 0.890625 -6 L 0.890625 -5.6875 C 1.09375 -5.6875 1.671875 -5.6875 2.1875 -5.953125 L 2.1875 -0.78125 C 2.1875 -0.421875 2.15625 -0.3125 1.265625 -0.3125 L 0.953125 -0.3125 L 0.953125 0 C 1.296875 -0.03125 2.15625 -0.03125 2.5625 -0.03125 C 2.953125 -0.03125 3.828125 -0.03125 4.171875 0 L 4.171875 -0.3125 L 3.859375 -0.3125 C 2.953125 -0.3125 2.9375 -0.421875 2.9375 -0.78125 Z M 2.9375 -6.375 \"/>\n",
       "</symbol>\n",
       "<symbol overflow=\"visible\" id=\"embed--1658731348303750172-glyph0-2\">\n",
       "<path style=\"stroke:none;\" d=\"M 4.578125 -3.1875 C 4.578125 -3.984375 4.53125 -4.78125 4.1875 -5.515625 C 3.734375 -6.484375 2.90625 -6.640625 2.5 -6.640625 C 1.890625 -6.640625 1.171875 -6.375 0.75 -5.453125 C 0.4375 -4.765625 0.390625 -3.984375 0.390625 -3.1875 C 0.390625 -2.4375 0.421875 -1.546875 0.84375 -0.78125 C 1.265625 0.015625 2 0.21875 2.484375 0.21875 C 3.015625 0.21875 3.78125 0.015625 4.21875 -0.9375 C 4.53125 -1.625 4.578125 -2.40625 4.578125 -3.1875 Z M 2.484375 0 C 2.09375 0 1.5 -0.25 1.328125 -1.203125 C 1.21875 -1.796875 1.21875 -2.71875 1.21875 -3.3125 C 1.21875 -3.953125 1.21875 -4.609375 1.296875 -5.140625 C 1.484375 -6.328125 2.234375 -6.421875 2.484375 -6.421875 C 2.8125 -6.421875 3.46875 -6.234375 3.65625 -5.25 C 3.765625 -4.6875 3.765625 -3.9375 3.765625 -3.3125 C 3.765625 -2.5625 3.765625 -1.890625 3.65625 -1.25 C 3.5 -0.296875 2.9375 0 2.484375 0 Z M 2.484375 0 \"/>\n",
       "</symbol>\n",
       "<symbol overflow=\"visible\" id=\"embed--1658731348303750172-glyph0-3\">\n",
       "<path style=\"stroke:none;\" d=\"M 4.46875 -2 C 4.46875 -3.1875 3.65625 -4.1875 2.578125 -4.1875 C 2.109375 -4.1875 1.671875 -4.03125 1.3125 -3.671875 L 1.3125 -5.625 C 1.515625 -5.5625 1.84375 -5.5 2.15625 -5.5 C 3.390625 -5.5 4.09375 -6.40625 4.09375 -6.53125 C 4.09375 -6.59375 4.0625 -6.640625 3.984375 -6.640625 C 3.984375 -6.640625 3.953125 -6.640625 3.90625 -6.609375 C 3.703125 -6.515625 3.21875 -6.3125 2.546875 -6.3125 C 2.15625 -6.3125 1.6875 -6.390625 1.21875 -6.59375 C 1.140625 -6.625 1.125 -6.625 1.109375 -6.625 C 1 -6.625 1 -6.546875 1 -6.390625 L 1 -3.4375 C 1 -3.265625 1 -3.1875 1.140625 -3.1875 C 1.21875 -3.1875 1.234375 -3.203125 1.28125 -3.265625 C 1.390625 -3.421875 1.75 -3.96875 2.5625 -3.96875 C 3.078125 -3.96875 3.328125 -3.515625 3.40625 -3.328125 C 3.5625 -2.953125 3.59375 -2.578125 3.59375 -2.078125 C 3.59375 -1.71875 3.59375 -1.125 3.34375 -0.703125 C 3.109375 -0.3125 2.734375 -0.0625 2.28125 -0.0625 C 1.5625 -0.0625 0.984375 -0.59375 0.8125 -1.171875 C 0.84375 -1.171875 0.875 -1.15625 0.984375 -1.15625 C 1.3125 -1.15625 1.484375 -1.40625 1.484375 -1.640625 C 1.484375 -1.890625 1.3125 -2.140625 0.984375 -2.140625 C 0.84375 -2.140625 0.5 -2.0625 0.5 -1.609375 C 0.5 -0.75 1.1875 0.21875 2.296875 0.21875 C 3.453125 0.21875 4.46875 -0.734375 4.46875 -2 Z M 4.46875 -2 \"/>\n",
       "</symbol>\n",
       "<symbol overflow=\"visible\" id=\"embed--1658731348303750172-glyph1-0\">\n",
       "<path style=\"stroke:none;\" d=\"\"/>\n",
       "</symbol>\n",
       "<symbol overflow=\"visible\" id=\"embed--1658731348303750172-glyph1-1\">\n",
       "<path style=\"stroke:none;\" d=\"M 1.90625 -0.53125 C 1.90625 -0.8125 1.671875 -1.0625 1.390625 -1.0625 C 1.09375 -1.0625 0.859375 -0.8125 0.859375 -0.53125 C 0.859375 -0.234375 1.09375 0 1.390625 0 C 1.671875 0 1.90625 -0.234375 1.90625 -0.53125 Z M 1.90625 -0.53125 \"/>\n",
       "</symbol>\n",
       "<symbol overflow=\"visible\" id=\"embed--1658731348303750172-glyph1-2\">\n",
       "<path style=\"stroke:none;\" d=\"M 0.453125 1.21875 C 0.375 1.5625 0.34375 1.625 -0.09375 1.625 C -0.203125 1.625 -0.3125 1.625 -0.3125 1.8125 C -0.3125 1.890625 -0.265625 1.9375 -0.1875 1.9375 C 0.078125 1.9375 0.375 1.90625 0.640625 1.90625 C 0.984375 1.90625 1.3125 1.9375 1.640625 1.9375 C 1.6875 1.9375 1.8125 1.9375 1.8125 1.734375 C 1.8125 1.625 1.71875 1.625 1.578125 1.625 C 1.078125 1.625 1.078125 1.5625 1.078125 1.46875 C 1.078125 1.34375 1.5 -0.28125 1.5625 -0.53125 C 1.6875 -0.234375 1.96875 0.109375 2.484375 0.109375 C 3.640625 0.109375 4.890625 -1.34375 4.890625 -2.8125 C 4.890625 -3.75 4.3125 -4.40625 3.5625 -4.40625 C 3.0625 -4.40625 2.578125 -4.046875 2.25 -3.65625 C 2.15625 -4.203125 1.71875 -4.40625 1.359375 -4.40625 C 0.890625 -4.40625 0.703125 -4.015625 0.625 -3.84375 C 0.4375 -3.5 0.3125 -2.90625 0.3125 -2.875 C 0.3125 -2.765625 0.40625 -2.765625 0.421875 -2.765625 C 0.53125 -2.765625 0.53125 -2.78125 0.59375 -3 C 0.765625 -3.703125 0.96875 -4.1875 1.328125 -4.1875 C 1.5 -4.1875 1.640625 -4.109375 1.640625 -3.734375 C 1.640625 -3.5 1.609375 -3.390625 1.5625 -3.21875 Z M 2.203125 -3.109375 C 2.265625 -3.375 2.546875 -3.65625 2.71875 -3.8125 C 3.078125 -4.109375 3.359375 -4.1875 3.53125 -4.1875 C 3.921875 -4.1875 4.171875 -3.84375 4.171875 -3.25 C 4.171875 -2.65625 3.84375 -1.515625 3.65625 -1.140625 C 3.3125 -0.4375 2.84375 -0.109375 2.46875 -0.109375 C 1.8125 -0.109375 1.6875 -0.9375 1.6875 -1 C 1.6875 -1.015625 1.6875 -1.03125 1.71875 -1.15625 Z M 2.203125 -3.109375 \"/>\n",
       "</symbol>\n",
       "</g>\n",
       "<clipPath id=\"embed--1658731348303750172-clip1\">\n",
       "  <path d=\"M 17 2 L 22.722656 2 L 22.722656 8.359375 L 17 8.359375 Z M 17 2 \"/>\n",
       "</clipPath>\n",
       "\n",
       "<marker markerWidth=\"4.0\" markerHeight=\"4.04\" viewBox=\"-0.1 -0.51 1.0 1.01\" orient=\"auto\" id=\"h5ogrsvt2\">\n",
       "<path d=\"M-0.1,0.5 L-0.1,-0.5 L0.9,0 Z\" fill=\"black\" />\n",
       "</marker>\n",
       "</defs>\n",
       "<rect x=\"-75\" y=\"-25\" width=\"50\" height=\"50\" fill=\"#aaa\" />\n",
       "<rect x=\"25\" y=\"-25\" width=\"50\" height=\"50\" fill=\"#aaa\" />\n",
       "<g transform=\"translate(-50.0, 0.0) scale(1.3333333333333333) translate(-2.506, -3.1135)\">\n",
       "\n",
       "<g id=\"embed-4876340156783905150-surface1\">\n",
       "<g clip-path=\"url(#embed-4876340156783905150-clip1)\" clip-rule=\"nonzero\">\n",
       "<g style=\"fill:rgb(0%,0%,0%);fill-opacity:1;\">\n",
       "  <use xlink:href=\"#embed-4876340156783905150-glyph0-1\" x=\"0\" y=\"4.29\"/>\n",
       "</g>\n",
       "</g>\n",
       "</g>\n",
       "\n",
       "</g>\n",
       "<g transform=\"translate(50.0, 0.0) scale(1.3333333333333333) translate(-11.362, -4.179)\">\n",
       "\n",
       "<g id=\"embed--1658731348303750172-surface1\">\n",
       "<g style=\"fill:rgb(0%,0%,0%);fill-opacity:1;\">\n",
       "  <use xlink:href=\"#embed--1658731348303750172-glyph0-1\" x=\"0\" y=\"6.421\"/>\n",
       "</g>\n",
       "<g style=\"fill:rgb(0%,0%,0%);fill-opacity:1;\">\n",
       "  <use xlink:href=\"#embed--1658731348303750172-glyph1-1\" x=\"4.981\" y=\"6.421\"/>\n",
       "</g>\n",
       "<g style=\"fill:rgb(0%,0%,0%);fill-opacity:1;\">\n",
       "  <use xlink:href=\"#embed--1658731348303750172-glyph0-2\" x=\"7.749\" y=\"6.421\"/>\n",
       "  <use xlink:href=\"#embed--1658731348303750172-glyph0-3\" x=\"12.7303\" y=\"6.421\"/>\n",
       "</g>\n",
       "<g clip-path=\"url(#embed--1658731348303750172-clip1)\" clip-rule=\"nonzero\">\n",
       "<g style=\"fill:rgb(0%,0%,0%);fill-opacity:1;\">\n",
       "  <use xlink:href=\"#embed--1658731348303750172-glyph1-2\" x=\"17.711\" y=\"6.421\"/>\n",
       "</g>\n",
       "</g>\n",
       "</g>\n",
       "\n",
       "</g>\n",
       "<path d=\"M-20,0 L15,0\" stroke=\"black\" stroke-width=\"2\" fill=\"none\" marker-end=\"url(#h5ogrsvt2)\" />\n",
       "<text x=\"0\" y=\"40\" font-size=\"8\" text-decoration=\"underline\" font-style=\"italic\" text-anchor=\"middle\" dominant-baseline=\"central\">Compounding of account value from time 0 to time 1</text>\n",
       "</svg>"
      ],
      "text/plain": [
       "JupyterSvgInline(svg='<?xml version=\"1.0\" encoding=\"UTF-8\"?>\\n<svg xmlns=\"http://www.w3.org/2000/svg\" xmlns:xlink=\"http://www.w3.org/1999/xlink\"\\n     width=\"300.0\" height=\"150.0\" viewBox=\"-100.0 -50.0 200 100\">\\n<defs>\\n\\n<g>\\n<symbol overflow=\"visible\" id=\"embed-4876340156783905150-glyph0-0\">\\n<path style=\"stroke:none;\" d=\"\"/>\\n</symbol>\\n<symbol overflow=\"visible\" id=\"embed-4876340156783905150-glyph0-1\">\\n<path style=\"stroke:none;\" d=\"M 0.453125 1.21875 C 0.375 1.5625 0.34375 1.625 -0.09375 1.625 C -0.203125 1.625 -0.3125 1.625 -0.3125 1.8125 C -0.3125 1.890625 -0.265625 1.9375 -0.1875 1.9375 C 0.078125 1.9375 0.375 1.90625 0.640625 1.90625 C 0.984375 1.90625 1.3125 1.9375 1.640625 1.9375 C 1.6875 1.9375 1.8125 1.9375 1.8125 1.734375 C 1.8125 1.625 1.71875 1.625 1.578125 1.625 C 1.078125 1.625 1.078125 1.5625 1.078125 1.46875 C 1.078125 1.34375 1.5 -0.28125 1.5625 -0.53125 C 1.6875 -0.234375 1.96875 0.109375 2.484375 0.109375 C 3.640625 0.109375 4.890625 -1.34375 4.890625 -2.8125 C 4.890625 -3.75 4.3125 -4.40625 3.5625 -4.40625 C 3.0625 -4.40625 2.578125 -4.046875 2.25 -3.65625 C 2.15625 -4.203125 1.71875 -4.40625 1.359375 -4.40625 C 0.890625 -4.40625 0.703125 -4.015625 0.625 -3.84375 C 0.4375 -3.5 0.3125 -2.90625 0.3125 -2.875 C 0.3125 -2.765625 0.40625 -2.765625 0.421875 -2.765625 C 0.53125 -2.765625 0.53125 -2.78125 0.59375 -3 C 0.765625 -3.703125 0.96875 -4.1875 1.328125 -4.1875 C 1.5 -4.1875 1.640625 -4.109375 1.640625 -3.734375 C 1.640625 -3.5 1.609375 -3.390625 1.5625 -3.21875 Z M 2.203125 -3.109375 C 2.265625 -3.375 2.546875 -3.65625 2.71875 -3.8125 C 3.078125 -4.109375 3.359375 -4.1875 3.53125 -4.1875 C 3.921875 -4.1875 4.171875 -3.84375 4.171875 -3.25 C 4.171875 -2.65625 3.84375 -1.515625 3.65625 -1.140625 C 3.3125 -0.4375 2.84375 -0.109375 2.46875 -0.109375 C 1.8125 -0.109375 1.6875 -0.9375 1.6875 -1 C 1.6875 -1.015625 1.6875 -1.03125 1.71875 -1.15625 Z M 2.203125 -3.109375 \"/>\\n</symbol>\\n</g>\\n<clipPath id=\"embed-4876340156783905150-clip1\">\\n  <path d=\"M 0 0 L 5 0 L 5 6.226562 L 0 6.226562 Z M 0 0 \"/>\\n</clipPath>\\n\\n\\n<g>\\n<symbol overflow=\"visible\" id=\"embed--1658731348303750172-glyph0-0\">\\n<path style=\"stroke:none;\" d=\"\"/>\\n</symbol>\\n<symbol overflow=\"visible\" id=\"embed--1658731348303750172-glyph0-1\">\\n<path style=\"stroke:none;\" d=\"M 2.9375 -6.375 C 2.9375 -6.625 2.9375 -6.640625 2.703125 -6.640625 C 2.078125 -6 1.203125 -6 0.890625 -6 L 0.890625 -5.6875 C 1.09375 -5.6875 1.671875 -5.6875 2.1875 -5.953125 L 2.1875 -0.78125 C 2.1875 -0.421875 2.15625 -0.3125 1.265625 -0.3125 L 0.953125 -0.3125 L 0.953125 0 C 1.296875 -0.03125 2.15625 -0.03125 2.5625 -0.03125 C 2.953125 -0.03125 3.828125 -0.03125 4.171875 0 L 4.171875 -0.3125 L 3.859375 -0.3125 C 2.953125 -0.3125 2.9375 -0.421875 2.9375 -0.78125 Z M 2.9375 -6.375 \"/>\\n</symbol>\\n<symbol overflow=\"visible\" id=\"embed--1658731348303750172-glyph0-2\">\\n<path style=\"stroke:none;\" d=\"M 4.578125 -3.1875 C 4.578125 -3.984375 4.53125 -4.78125 4.1875 -5.515625 C 3.734375 -6.484375 2.90625 -6.640625 2.5 -6.640625 C 1.890625 -6.640625 1.171875 -6.375 0.75 -5.453125 C 0.4375 -4.765625 0.390625 -3.984375 0.390625 -3.1875 C 0.390625 -2.4375 0.421875 -1.546875 0.84375 -0.78125 C 1.265625 0.015625 2 0.21875 2.484375 0.21875 C 3.015625 0.21875 3.78125 0.015625 4.21875 -0.9375 C 4.53125 -1.625 4.578125 -2.40625 4.578125 -3.1875 Z M 2.484375 0 C 2.09375 0 1.5 -0.25 1.328125 -1.203125 C 1.21875 -1.796875 1.21875 -2.71875 1.21875 -3.3125 C 1.21875 -3.953125 1.21875 -4.609375 1.296875 -5.140625 C 1.484375 -6.328125 2.234375 -6.421875 2.484375 -6.421875 C 2.8125 -6.421875 3.46875 -6.234375 3.65625 -5.25 C 3.765625 -4.6875 3.765625 -3.9375 3.765625 -3.3125 C 3.765625 -2.5625 3.765625 -1.890625 3.65625 -1.25 C 3.5 -0.296875 2.9375 0 2.484375 0 Z M 2.484375 0 \"/>\\n</symbol>\\n<symbol overflow=\"visible\" id=\"embed--1658731348303750172-glyph0-3\">\\n<path style=\"stroke:none;\" d=\"M 4.46875 -2 C 4.46875 -3.1875 3.65625 -4.1875 2.578125 -4.1875 C 2.109375 -4.1875 1.671875 -4.03125 1.3125 -3.671875 L 1.3125 -5.625 C 1.515625 -5.5625 1.84375 -5.5 2.15625 -5.5 C 3.390625 -5.5 4.09375 -6.40625 4.09375 -6.53125 C 4.09375 -6.59375 4.0625 -6.640625 3.984375 -6.640625 C 3.984375 -6.640625 3.953125 -6.640625 3.90625 -6.609375 C 3.703125 -6.515625 3.21875 -6.3125 2.546875 -6.3125 C 2.15625 -6.3125 1.6875 -6.390625 1.21875 -6.59375 C 1.140625 -6.625 1.125 -6.625 1.109375 -6.625 C 1 -6.625 1 -6.546875 1 -6.390625 L 1 -3.4375 C 1 -3.265625 1 -3.1875 1.140625 -3.1875 C 1.21875 -3.1875 1.234375 -3.203125 1.28125 -3.265625 C 1.390625 -3.421875 1.75 -3.96875 2.5625 -3.96875 C 3.078125 -3.96875 3.328125 -3.515625 3.40625 -3.328125 C 3.5625 -2.953125 3.59375 -2.578125 3.59375 -2.078125 C 3.59375 -1.71875 3.59375 -1.125 3.34375 -0.703125 C 3.109375 -0.3125 2.734375 -0.0625 2.28125 -0.0625 C 1.5625 -0.0625 0.984375 -0.59375 0.8125 -1.171875 C 0.84375 -1.171875 0.875 -1.15625 0.984375 -1.15625 C 1.3125 -1.15625 1.484375 -1.40625 1.484375 -1.640625 C 1.484375 -1.890625 1.3125 -2.140625 0.984375 -2.140625 C 0.84375 -2.140625 0.5 -2.0625 0.5 -1.609375 C 0.5 -0.75 1.1875 0.21875 2.296875 0.21875 C 3.453125 0.21875 4.46875 -0.734375 4.46875 -2 Z M 4.46875 -2 \"/>\\n</symbol>\\n<symbol overflow=\"visible\" id=\"embed--1658731348303750172-glyph1-0\">\\n<path style=\"stroke:none;\" d=\"\"/>\\n</symbol>\\n<symbol overflow=\"visible\" id=\"embed--1658731348303750172-glyph1-1\">\\n<path style=\"stroke:none;\" d=\"M 1.90625 -0.53125 C 1.90625 -0.8125 1.671875 -1.0625 1.390625 -1.0625 C 1.09375 -1.0625 0.859375 -0.8125 0.859375 -0.53125 C 0.859375 -0.234375 1.09375 0 1.390625 0 C 1.671875 0 1.90625 -0.234375 1.90625 -0.53125 Z M 1.90625 -0.53125 \"/>\\n</symbol>\\n<symbol overflow=\"visible\" id=\"embed--1658731348303750172-glyph1-2\">\\n<path style=\"stroke:none;\" d=\"M 0.453125 1.21875 C 0.375 1.5625 0.34375 1.625 -0.09375 1.625 C -0.203125 1.625 -0.3125 1.625 -0.3125 1.8125 C -0.3125 1.890625 -0.265625 1.9375 -0.1875 1.9375 C 0.078125 1.9375 0.375 1.90625 0.640625 1.90625 C 0.984375 1.90625 1.3125 1.9375 1.640625 1.9375 C 1.6875 1.9375 1.8125 1.9375 1.8125 1.734375 C 1.8125 1.625 1.71875 1.625 1.578125 1.625 C 1.078125 1.625 1.078125 1.5625 1.078125 1.46875 C 1.078125 1.34375 1.5 -0.28125 1.5625 -0.53125 C 1.6875 -0.234375 1.96875 0.109375 2.484375 0.109375 C 3.640625 0.109375 4.890625 -1.34375 4.890625 -2.8125 C 4.890625 -3.75 4.3125 -4.40625 3.5625 -4.40625 C 3.0625 -4.40625 2.578125 -4.046875 2.25 -3.65625 C 2.15625 -4.203125 1.71875 -4.40625 1.359375 -4.40625 C 0.890625 -4.40625 0.703125 -4.015625 0.625 -3.84375 C 0.4375 -3.5 0.3125 -2.90625 0.3125 -2.875 C 0.3125 -2.765625 0.40625 -2.765625 0.421875 -2.765625 C 0.53125 -2.765625 0.53125 -2.78125 0.59375 -3 C 0.765625 -3.703125 0.96875 -4.1875 1.328125 -4.1875 C 1.5 -4.1875 1.640625 -4.109375 1.640625 -3.734375 C 1.640625 -3.5 1.609375 -3.390625 1.5625 -3.21875 Z M 2.203125 -3.109375 C 2.265625 -3.375 2.546875 -3.65625 2.71875 -3.8125 C 3.078125 -4.109375 3.359375 -4.1875 3.53125 -4.1875 C 3.921875 -4.1875 4.171875 -3.84375 4.171875 -3.25 C 4.171875 -2.65625 3.84375 -1.515625 3.65625 -1.140625 C 3.3125 -0.4375 2.84375 -0.109375 2.46875 -0.109375 C 1.8125 -0.109375 1.6875 -0.9375 1.6875 -1 C 1.6875 -1.015625 1.6875 -1.03125 1.71875 -1.15625 Z M 2.203125 -3.109375 \"/>\\n</symbol>\\n</g>\\n<clipPath id=\"embed--1658731348303750172-clip1\">\\n  <path d=\"M 17 2 L 22.722656 2 L 22.722656 8.359375 L 17 8.359375 Z M 17 2 \"/>\\n</clipPath>\\n\\n<marker markerWidth=\"4.0\" markerHeight=\"4.04\" viewBox=\"-0.1 -0.51 1.0 1.01\" orient=\"auto\" id=\"h5ogrsvt2\">\\n<path d=\"M-0.1,0.5 L-0.1,-0.5 L0.9,0 Z\" fill=\"black\" />\\n</marker>\\n</defs>\\n<rect x=\"-75\" y=\"-25\" width=\"50\" height=\"50\" fill=\"#aaa\" />\\n<rect x=\"25\" y=\"-25\" width=\"50\" height=\"50\" fill=\"#aaa\" />\\n<g transform=\"translate(-50.0, 0.0) scale(1.3333333333333333) translate(-2.506, -3.1135)\">\\n\\n<g id=\"embed-4876340156783905150-surface1\">\\n<g clip-path=\"url(#embed-4876340156783905150-clip1)\" clip-rule=\"nonzero\">\\n<g style=\"fill:rgb(0%,0%,0%);fill-opacity:1;\">\\n  <use xlink:href=\"#embed-4876340156783905150-glyph0-1\" x=\"0\" y=\"4.29\"/>\\n</g>\\n</g>\\n</g>\\n\\n</g>\\n<g transform=\"translate(50.0, 0.0) scale(1.3333333333333333) translate(-11.362, -4.179)\">\\n\\n<g id=\"embed--1658731348303750172-surface1\">\\n<g style=\"fill:rgb(0%,0%,0%);fill-opacity:1;\">\\n  <use xlink:href=\"#embed--1658731348303750172-glyph0-1\" x=\"0\" y=\"6.421\"/>\\n</g>\\n<g style=\"fill:rgb(0%,0%,0%);fill-opacity:1;\">\\n  <use xlink:href=\"#embed--1658731348303750172-glyph1-1\" x=\"4.981\" y=\"6.421\"/>\\n</g>\\n<g style=\"fill:rgb(0%,0%,0%);fill-opacity:1;\">\\n  <use xlink:href=\"#embed--1658731348303750172-glyph0-2\" x=\"7.749\" y=\"6.421\"/>\\n  <use xlink:href=\"#embed--1658731348303750172-glyph0-3\" x=\"12.7303\" y=\"6.421\"/>\\n</g>\\n<g clip-path=\"url(#embed--1658731348303750172-clip1)\" clip-rule=\"nonzero\">\\n<g style=\"fill:rgb(0%,0%,0%);fill-opacity:1;\">\\n  <use xlink:href=\"#embed--1658731348303750172-glyph1-2\" x=\"17.711\" y=\"6.421\"/>\\n</g>\\n</g>\\n</g>\\n\\n</g>\\n<path d=\"M-20,0 L15,0\" stroke=\"black\" stroke-width=\"2\" fill=\"none\" marker-end=\"url(#h5ogrsvt2)\" />\\n<text x=\"0\" y=\"40\" font-size=\"8\" text-decoration=\"underline\" font-style=\"italic\" text-anchor=\"middle\" dominant-baseline=\"central\">Compounding of account value from time 0 to time 1</text>\\n</svg>')"
      ]
     },
     "execution_count": 7,
     "metadata": {},
     "output_type": "execute_result"
    }
   ],
   "source": [
    "import latextools\n",
    "import drawsvg as draw  # pip3 install drawsvg\n",
    "\n",
    "# Use the rendered latex in a vector drawing\n",
    "d = draw.Drawing(200, 100, origin='center')\n",
    "r = draw.Rectangle(-75, -25, 50, 50, fill='#aaa')\n",
    "d.append(r)\n",
    "r = draw.Rectangle(25, -25, 50, 50, fill='#aaa')\n",
    "d.append(r)\n",
    "\n",
    "# Render latex\n",
    "latex_eq = latextools.render_snippet(\n",
    "    r'$p$',\n",
    "    commands=[latextools.cmd.all_math])\n",
    "svg_eq = latex_eq.as_svg()\n",
    "d.draw(svg_eq, x=-75 + 50/2, y=-25 + 50/2, center=True, scale=1.)\n",
    "\n",
    "latex_eq = latextools.render_snippet(\n",
    "    r'$1.05p$',\n",
    "    commands=[latextools.cmd.all_math])\n",
    "svg_eq = latex_eq.as_svg()\n",
    "d.draw(svg_eq, x=25 + 50/2, y=-25 + 50/2, center=True, scale=1.)\n",
    "\n",
    "arrow = draw.Marker(-0.1, -0.51, 0.9, 0.5, scale=4, orient='auto')\n",
    "arrow.append(draw.Lines(-0.1, 0.5, -0.1, -0.5, 0.9, 0, fill='black', close=True))\n",
    "d.append(draw.Line(-20, 0, 15, 0,\n",
    "        stroke='black', stroke_width=2, fill='none',\n",
    "        marker_end=arrow))  # Add an arrow to the end of a line\n",
    "\n",
    "d.append(\n",
    "    draw.Text(\n",
    "        'Compounding of account value from time 0 to time 1', \n",
    "        8, 0, 40, \n",
    "        center=True, \n",
    "        text_decoration=\"underline\",\n",
    "        font_style=\"italic\"\n",
    "    ))\n",
    "\n",
    "d.set_pixel_scale(1.5)\n",
    "\n",
    "d.save_svg('vector.svg')\n",
    "d.save_png('vector.png')\n",
    "\n",
    "# Display in Jupyter notebook\n",
    "#d.rasterize()  # Display as PNG\n",
    "d.display_inline()  # Display as SVG"
   ]
  },
  {
   "cell_type": "markdown",
   "id": "fe9688f8",
   "metadata": {},
   "source": [
    "It is given that,"
   ]
  },
  {
   "cell_type": "markdown",
   "id": "a40cf13b",
   "metadata": {},
   "source": [
    "the value in the personal account at time 1 is $$200$$"
   ]
  },
  {
   "cell_type": "markdown",
   "id": "66b08d83",
   "metadata": {},
   "source": [
    "We have the equation $$1.05p = 200$$"
   ]
  },
  {
   "cell_type": "markdown",
   "id": "04084d07",
   "metadata": {},
   "source": [
    "The value of $p$ is $$p = \\frac{200}{1.05} \\approx 190.48$$"
   ]
  },
  {
   "cell_type": "markdown",
   "id": "13a4bc77",
   "metadata": {},
   "source": [
    "#### Working"
   ]
  },
  {
   "cell_type": "code",
   "execution_count": 5,
   "id": "8b18d30a",
   "metadata": {
    "hidePrompt": true
   },
   "outputs": [
    {
     "name": "stdout",
     "output_type": "stream",
     "text": [
      "190.48\n"
     ]
    }
   ],
   "source": [
    "p = 200/1.05\n",
    "p_rounded = round(p, 2)\n",
    "print(p_rounded)"
   ]
  },
  {
   "cell_type": "markdown",
   "id": "70b2fa32",
   "metadata": {
    "hideCode": false,
    "hideOutput": false,
    "hidePrompt": false
   },
   "source": [
    "#### Visualization"
   ]
  },
  {
   "cell_type": "code",
   "execution_count": 9,
   "id": "d93776ce",
   "metadata": {},
   "outputs": [
    {
     "data": {
      "text/html": [
       "<pre style=\"white-space:pre;overflow-x:auto;line-height:normal;font-family:Menlo,'DejaVu Sans Mono',consolas,'Courier New',monospace\">Manim Community <span style=\"color: #008000; text-decoration-color: #008000\">v0.18.0</span>\n",
       "\n",
       "</pre>\n"
      ],
      "text/plain": [
       "Manim Community \u001b[32mv0.\u001b[0m\u001b[32m18.0\u001b[0m\n",
       "\n"
      ]
     },
     "metadata": {},
     "output_type": "display_data"
    }
   ],
   "source": [
    "from manim import *"
   ]
  },
  {
   "cell_type": "code",
   "execution_count": 10,
   "id": "d1f7fedb",
   "metadata": {},
   "outputs": [
    {
     "name": "stderr",
     "output_type": "stream",
     "text": [
      "                                                                                                                        \r"
     ]
    },
    {
     "data": {
      "text/html": [
       "<video src=\"media/jupyter/SquareToCircle@2023-12-29@09-38-17.mp4\" controls autoplay loop style=\"max-width: 60%;\"  >\n",
       "      Your browser does not support the <code>video</code> element.\n",
       "    </video>"
      ],
      "text/plain": [
       "<IPython.core.display.Video object>"
      ]
     },
     "metadata": {},
     "output_type": "display_data"
    }
   ],
   "source": [
    "%%manim -qm -v WARNING SquareToCircle\n",
    "\n",
    "# https://github.com/ManimCommunity/manim\n",
    "# https://docs.manim.community/en/stable/installation/jupyter.html\n",
    "\n",
    "class SquareToCircle(Scene):\n",
    "   def construct(self):\n",
    "      square = Square()\n",
    "      circle = Circle()\n",
    "      circle.set_fill(PINK, opacity=0.5)\n",
    "      self.play(Create(square))\n",
    "      self.play(Transform(square, circle))\n",
    "      self.wait()"
   ]
  },
  {
   "cell_type": "code",
   "execution_count": null,
   "id": "54d40d78",
   "metadata": {},
   "outputs": [],
   "source": []
  }
 ],
 "metadata": {
  "celltoolbar": "Hide code",
  "kernelspec": {
   "display_name": "Python 3 (ipykernel)",
   "language": "python",
   "name": "python3"
  },
  "language_info": {
   "codemirror_mode": {
    "name": "ipython",
    "version": 3
   },
   "file_extension": ".py",
   "mimetype": "text/x-python",
   "name": "python",
   "nbconvert_exporter": "python",
   "pygments_lexer": "ipython3",
   "version": "3.11.5"
  }
 },
 "nbformat": 4,
 "nbformat_minor": 5
}
